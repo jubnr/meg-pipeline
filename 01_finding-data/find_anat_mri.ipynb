{
 "cells": [
  {
   "cell_type": "code",
   "execution_count": null,
   "metadata": {},
   "outputs": [],
   "source": [
    "import pandas as pd\n",
    "import numpy as np\n",
    "from pathlib import Path"
   ]
  },
  {
   "cell_type": "markdown",
   "metadata": {},
   "source": [
    "To generate the anat_mri.txt file (necessary), run the following commands in a terminal:\n",
    "```\n",
    "cd ~/neurospin/acquisition/database/Prisma_fit\n",
    "find -maxdepth 3 -type d -iname \"mprage\" > /home/is153802/code/formatting/anat_MRI/anat_mri.txt\n",
    "chmod 777 /home/is153802/code/formatting/anat_MRI/anat_mri.txt\n",
    "```"
   ]
  },
  {
   "cell_type": "code",
   "execution_count": 14,
   "metadata": {},
   "outputs": [],
   "source": [
    "# Make your dictionary nip to sn \n",
    "\n",
    "modality = 'distraction'\n",
    "\n",
    "if modality == 'distraction':\n",
    "    dict_nip_to_sn = {'mn_240236': '2',\n",
    "                    'to_220041': '4'}"
   ]
  },
  {
   "cell_type": "code",
   "execution_count": 15,
   "metadata": {},
   "outputs": [
    {
     "data": {
      "text/plain": [
       "['mn240236', 'to220041']"
      ]
     },
     "execution_count": 15,
     "metadata": {},
     "output_type": "execute_result"
    }
   ],
   "source": [
    "# Where the anat will be stored before merging with the BIDS dataset\n",
    "anat_base_path = '/home_local/Bonnaire/data'\n",
    "\n",
    "# Where we put the temporary scans folders\n",
    "output_folder = Path(f\"{anat_base_path}/{modality}\")\n",
    "\n",
    "# Where the code is \n",
    "anat_code_path = '/home_local/Bonnaire/scripts'\n",
    "\n",
    "# Where the scans folders are located\n",
    "scan_path = Path('/neurospin/acquisition/database/Prisma_fit')\n",
    "\n",
    "# Where we want to merge the two BIDS datasets\n",
    "bids_folder = Path(f\"/home_local/Bonnaire/data/LPP_MEG_{modality}\")\n",
    "\n",
    "subj = [key for key in dict_nip_to_sn]\n",
    "\n",
    "subjects = [sub.replace('_','') for sub in subj]\n",
    "\n",
    "list_scans = []\n",
    "with open(f'{anat_code_path}/anat_mri.txt', 'r') as fh:\n",
    "    for line in fh:\n",
    "        list_scans.append((line))\n",
    "\n",
    "list_scans = [scan.replace('\\n','') for scan in list_scans]\n",
    "\n",
    "list_scans_subjects = [scan[11:19] for scan in list_scans]\n",
    "\n",
    "list_scans_subjects"
   ]
  },
  {
   "cell_type": "code",
   "execution_count": 16,
   "metadata": {},
   "outputs": [
    {
     "data": {
      "text/plain": [
       "['./20240606/mn240236-8479_001/000002_mprage-sag-T1-160sl',\n",
       " './20240620/to220041-8503_001/000002_mprage-sag-T1-160sl']"
      ]
     },
     "execution_count": 16,
     "metadata": {},
     "output_type": "execute_result"
    }
   ],
   "source": [
    "# Intersecting the subjects for LPP and the scans\n",
    "list_scans_final = [scan for i, scan in enumerate(list_scans) if list_scans_subjects[i] in (subjects)]\n",
    "list_scans_final"
   ]
  },
  {
   "cell_type": "code",
   "execution_count": 17,
   "metadata": {},
   "outputs": [],
   "source": [
    "# Get the number of unique patients\n",
    "\n",
    "dict_pat_dat = {}\n",
    "\n",
    "dict_pat_scan = {}\n",
    "\n",
    "# Sort the list of scans in order to only get the latest MRI scans\n",
    "list_scans_final.sort()\n",
    "\n",
    "pat = np.array([pati[11:19] for pati in list_scans_final]) # list of participants\n",
    "dates = np.array([pati[2:10] for pati in list_scans_final]) # list of dates of anat\n",
    "scan_nb = np.array([pati[32:35] for pati in list_scans_final]) # list of dates of scan_nb\n",
    "scan_nb_final = [(f\"{int(scan_nb[i]):01}\") for i in range(scan_nb.shape[0])]\n",
    "\n",
    "for pa, da in zip(pat,dates):\n",
    "    dict_pat_dat[pa] = da\n",
    "    \n",
    "for pa, scan in zip(pat,scan_nb_final):\n",
    "    dict_pat_scan[pa] = scan"
   ]
  },
  {
   "cell_type": "code",
   "execution_count": 18,
   "metadata": {},
   "outputs": [
    {
     "name": "stdout",
     "output_type": "stream",
     "text": [
      "['20240606/mn240236-8479_001/000002_mprage-sag-T1-160sl', '20240620/to220041-8503_001/000002_mprage-sag-T1-160sl']\n"
     ]
    }
   ],
   "source": [
    "# For each subject:\n",
    "# Get their subset of scans\n",
    "# Sort it by date, and take the latest\n",
    "scan_to_move = []\n",
    "\n",
    "for sub in subjects:\n",
    "    list_scan_specific = [scan for i, scan in enumerate(list_scans_final) if scan[11:19] == sub]\n",
    "    # If no scan for the subject, skip it\n",
    "    if list_scan_specific == []:\n",
    "        continue\n",
    "    # print(f'Sub {sub} ! list {list_scan_specific}')\n",
    "    list_scan_specific.sort(reverse = True)\n",
    "\n",
    "\n",
    "    scan_to_move.append((list_scan_specific[0]))\n",
    "scan_to_move = [scan.replace('./','') for scan in scan_to_move]\n",
    "print(scan_to_move)"
   ]
  },
  {
   "cell_type": "code",
   "execution_count": 19,
   "metadata": {},
   "outputs": [
    {
     "name": "stdout",
     "output_type": "stream",
     "text": [
      "port.tsv\n"
     ]
    }
   ],
   "source": [
    "for sub in output_folder.iterdir():\n",
    "    print(str(sub)[-8:])"
   ]
  },
  {
   "cell_type": "code",
   "execution_count": 20,
   "metadata": {},
   "outputs": [],
   "source": [
    "# Get the format of the previous participants_to_import.tsv and rebuild a new one updated\n",
    "df__ = pd.read_csv(f'{anat_code_path}/{modality}/participants_to_import.tsv',delimiter='\\t')\n",
    "df = pd.DataFrame(index=[0],columns=range(8))\n",
    "df.columns = df__.columns\n",
    "\n",
    "dff = pd.DataFrame()\n",
    "for sub in subjects:\n",
    "    if any(sub in key for key in dict_pat_dat) and (sub in dict_pat_scan.keys()):\n",
    "        sub_ = sub[:2] + '_' + sub[2:]\n",
    "        date = dict_pat_dat[sub][:4] + '-' + dict_pat_dat[sub][4:6] + '-' + dict_pat_dat[sub][6:]\n",
    "        df_= pd.DataFrame([f'sub-{dict_nip_to_sn[sub_]}', sub, {}, '01', date, None, 'prisma', f\"(('{dict_pat_scan[sub]}','anat','T1w'))\"])\n",
    "        dff = pd.concat([dff,df_],axis = 1)\n",
    "    else: \n",
    "        print(f'No anat for {sub} yet')\n",
    "        \n",
    "dff_t = dff.transpose()\n",
    "dff_t.columns = df.columns\n",
    "final = pd.concat([df,dff_t])\n",
    "final = final.iloc[1:,:]\n",
    "final\n",
    "\n",
    "final.to_csv(f'./{modality}/participants_to_import.tsv',sep='\\t',index= False)"
   ]
  },
  {
   "cell_type": "code",
   "execution_count": 21,
   "metadata": {},
   "outputs": [
    {
     "data": {
      "text/html": [
       "<div>\n",
       "<style scoped>\n",
       "    .dataframe tbody tr th:only-of-type {\n",
       "        vertical-align: middle;\n",
       "    }\n",
       "\n",
       "    .dataframe tbody tr th {\n",
       "        vertical-align: top;\n",
       "    }\n",
       "\n",
       "    .dataframe thead th {\n",
       "        text-align: right;\n",
       "    }\n",
       "</style>\n",
       "<table border=\"1\" class=\"dataframe\">\n",
       "  <thead>\n",
       "    <tr style=\"text-align: right;\">\n",
       "      <th></th>\n",
       "      <th>participant_id</th>\n",
       "      <th>NIP</th>\n",
       "      <th>infos_participant</th>\n",
       "      <th>session_label</th>\n",
       "      <th>acq_date</th>\n",
       "      <th>acq_label</th>\n",
       "      <th>location</th>\n",
       "      <th>to_import</th>\n",
       "    </tr>\n",
       "  </thead>\n",
       "  <tbody>\n",
       "    <tr>\n",
       "      <th>0</th>\n",
       "      <td>sub-2</td>\n",
       "      <td>mn240236</td>\n",
       "      <td>{}</td>\n",
       "      <td>01</td>\n",
       "      <td>2024-06-06</td>\n",
       "      <td>None</td>\n",
       "      <td>prisma</td>\n",
       "      <td>(('2','anat','T1w'))</td>\n",
       "    </tr>\n",
       "    <tr>\n",
       "      <th>0</th>\n",
       "      <td>sub-4</td>\n",
       "      <td>to220041</td>\n",
       "      <td>{}</td>\n",
       "      <td>01</td>\n",
       "      <td>2024-06-20</td>\n",
       "      <td>None</td>\n",
       "      <td>prisma</td>\n",
       "      <td>(('2','anat','T1w'))</td>\n",
       "    </tr>\n",
       "  </tbody>\n",
       "</table>\n",
       "</div>"
      ],
      "text/plain": [
       "  participant_id       NIP infos_participant session_label    acq_date  \\\n",
       "0          sub-2  mn240236                {}            01  2024-06-06   \n",
       "0          sub-4  to220041                {}            01  2024-06-20   \n",
       "\n",
       "  acq_label location             to_import  \n",
       "0      None   prisma  (('2','anat','T1w'))  \n",
       "0      None   prisma  (('2','anat','T1w'))  "
      ]
     },
     "execution_count": 21,
     "metadata": {},
     "output_type": "execute_result"
    }
   ],
   "source": [
    "final"
   ]
  }
 ],
 "metadata": {
  "kernelspec": {
   "display_name": "Python 3",
   "language": "python",
   "name": "python3"
  },
  "language_info": {
   "codemirror_mode": {
    "name": "ipython",
    "version": 3
   },
   "file_extension": ".py",
   "mimetype": "text/x-python",
   "name": "python",
   "nbconvert_exporter": "python",
   "pygments_lexer": "ipython3",
   "version": "3.12.2"
  }
 },
 "nbformat": 4,
 "nbformat_minor": 2
}
